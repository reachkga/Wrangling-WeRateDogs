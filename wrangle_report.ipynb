{
 "cells": [
  {
   "cell_type": "markdown",
   "metadata": {},
   "source": [
    "# Introduction\n",
    "\n",
    "In this report, I will describe the wrangling procedure followed in WeRateDog project.\n",
    "\n",
    "Data Wrangling consists of 3 processes:\n",
    "- Gathering\n",
    "- Assessing\n",
    "- Cleaning\n",
    "\n",
    "Apart from this, I am also required to produce some visualisations after completing the cleaning process."
   ]
  },
  {
   "cell_type": "markdown",
   "metadata": {},
   "source": [
    "# Gathering\n",
    "I gathered data from three sources for this project as described below:\n",
    "\n",
    "- Manually from the WeRateDogs twitter archive by clicking the following link: twitter_archive_enhanced.csv\n",
    "- Programatically, from the tweet image predictions using requests library from this url: https://d17h27t6h515a5.cloudfront.net/topher/2017/August/599fd2ad_image-predictions/image-predictions.tsv\n",
    "- From Twitter API"
   ]
  },
  {
   "cell_type": "markdown",
   "metadata": {},
   "source": [
    "# Assessing\n",
    "\n",
    "After gathering the above mentioned data, I assessed these both programmatically and visually using various functions like info(), describe(), head(), etc.\n",
    "\n",
    "We could detect and document the following quality and tidyness issues"
   ]
  },
  {
   "cell_type": "markdown",
   "metadata": {},
   "source": [
    "# Quality\n",
    "## Accuracy, Validity, Completeness, Consistency\n",
    "\n",
    "### Archive Dataset\n",
    "- Retweeted_status_timestamp, timestamp are object (string) instead of datetime\n",
    "- In several columns null objects are non-null (None to NaN)\n",
    "- Many invalid values in name columns like a, None, an\n",
    "- Some columns types are float instaed of string (in_reply_to_status_id, in_reply_to_user_id, and tweet_id); String is desirable because we don't want any operations on them\n",
    "- retweeted_status_id, retweeted_status_user_id  are undesirable columns\n",
    "\n",
    "### Image Dataset\n",
    "- Missing values from images dataset (2068 rows instead of 2356)\n",
    "- Many tweet_ids have same jpg_url\n",
    "- tweet_id is an integer instead of string\n",
    "\n",
    "### JSON Dataset\n",
    "\n",
    "- date_time is an object(string) instead of datetime\n",
    "\n",
    "### Tidiness\n",
    "- Structural issues\n",
    "- dog_type can be made into one column\n",
    "- Two separate dataframes can be created with tweet_id as primary key; one which contains details of tweet and the other which contains details of dogs\n",
    "- We dont need to show different predictions and confidence intervals. All the AI based infoarmation can be condense based on true values\n",
    "- All three datasets are about the same tweets. Therefore, it is logival to creat one master data based on tweet id af all the datasets"
   ]
  },
  {
   "cell_type": "markdown",
   "metadata": {},
   "source": [
    "# Cleaning\n",
    "\n",
    "Cleaning based on quality and tidyness issues identified in the assessment process is our next step. \n",
    "\n",
    "First, I made a copy of all 3 dataframes in order to create backup in case the data is changed to undesirable forms in our cleaning process. I followed the define, code and test cycle in every problem identified in the assessment step. In the process, I realised that I did not identify many of the important issues in the assessment process. This made me revisit the assessment step multiple times."
   ]
  },
  {
   "cell_type": "markdown",
   "metadata": {},
   "source": [
    "# Conclusion\n",
    "\n",
    "I have realised that wrangling is a core skillset for any aspiring data scientist. Bulk of the worlds data isn't clean. If we analyse, visualise and model unclean data we will be wasting so much of our time. Some of the visualisations generated wouldn't be possible without wrangling. Therefore, it is imporatant to wrangle our data."
   ]
  }
 ],
 "metadata": {
  "kernelspec": {
   "display_name": "Python 3",
   "language": "python",
   "name": "python3"
  },
  "language_info": {
   "codemirror_mode": {
    "name": "ipython",
    "version": 3
   },
   "file_extension": ".py",
   "mimetype": "text/x-python",
   "name": "python",
   "nbconvert_exporter": "python",
   "pygments_lexer": "ipython3",
   "version": "3.5.2"
  }
 },
 "nbformat": 4,
 "nbformat_minor": 2
}
